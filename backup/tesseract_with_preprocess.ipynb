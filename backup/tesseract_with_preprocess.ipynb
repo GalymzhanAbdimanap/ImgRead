{
 "cells": [
  {
   "cell_type": "code",
   "execution_count": 20,
   "metadata": {},
   "outputs": [],
   "source": [
    "# import the necessary packages\n",
    "from PIL import Image\n",
    "import pytesseract\n",
    "import argparse\n",
    "import cv2\n",
    "import os\n",
    "import glob\n",
    "import numpy as np\n"
   ]
  },
  {
   "cell_type": "code",
   "execution_count": 27,
   "metadata": {},
   "outputs": [
    {
     "name": "stdout",
     "output_type": "stream",
     "text": [
      "START\n"
     ]
    },
    {
     "ename": "TypeError",
     "evalue": "Expected cv::UMat for argument 'img'",
     "output_type": "error",
     "traceback": [
      "\u001b[0;31m---------------------------------------------------------------------------\u001b[0m",
      "\u001b[0;31mTypeError\u001b[0m                                 Traceback (most recent call last)",
      "\u001b[0;32m<ipython-input-27-b863d9c9b1a5>\u001b[0m in \u001b[0;36m<module>\u001b[0;34m\u001b[0m\n\u001b[1;32m     51\u001b[0m                     \u001b[0;31m#cv2.imwrite(img_name, crop)\u001b[0m\u001b[0;34m\u001b[0m\u001b[0;34m\u001b[0m\u001b[0m\n\u001b[1;32m     52\u001b[0m                     \u001b[0mbinary\u001b[0m \u001b[0;34m=\u001b[0m \u001b[0mbinarize_image_using_opencv\u001b[0m\u001b[0;34m(\u001b[0m\u001b[0mimg_name\u001b[0m\u001b[0;34m)\u001b[0m\u001b[0;34m\u001b[0m\u001b[0m\n\u001b[0;32m---> 53\u001b[0;31m                     \u001b[0mcv2\u001b[0m\u001b[0;34m.\u001b[0m\u001b[0mimwrite\u001b[0m\u001b[0;34m(\u001b[0m\u001b[0mimg_name\u001b[0m\u001b[0;34m,\u001b[0m \u001b[0mbinary\u001b[0m\u001b[0;34m)\u001b[0m\u001b[0;34m\u001b[0m\u001b[0m\n\u001b[0m\u001b[1;32m     54\u001b[0m                     \u001b[0mrecognize\u001b[0m \u001b[0;34m=\u001b[0m \u001b[0mdigit_cab_recognize_tesseract\u001b[0m\u001b[0;34m(\u001b[0m\u001b[0mimg_name\u001b[0m\u001b[0;34m)\u001b[0m\u001b[0;34m\u001b[0m\u001b[0m\n\u001b[1;32m     55\u001b[0m                     '''cv2.imwrite(img_name, crop)\n",
      "\u001b[0;31mTypeError\u001b[0m: Expected cv::UMat for argument 'img'"
     ]
    }
   ],
   "source": [
    "it =glob.glob('*.png')\n",
    "Emp_arr=[]\n",
    "print(\"START\")\n",
    "for a in it:\n",
    "    abc = a\n",
    "    #print(abc)\n",
    "    count =0\n",
    "    count1=0\n",
    "    count2=0\n",
    "    image = cv2.imread(a)\n",
    "    size =image.shape\n",
    "    \n",
    "    data = []\n",
    "    with open(a.split(\".\")[0]+'.txt') as f:\n",
    "        #print(i.split(\".\")[0]+'.txt')\n",
    "        for line in f:\n",
    "            data.append([float(x) for x in line.split()])\n",
    "            \n",
    "            \n",
    "    for i in range(len(data)):\n",
    "           for j in range(len(data[i])):\n",
    "                abc = abc.split('.')[0]\n",
    "                #print(data[i][j])\n",
    "                if  data[i][0]==0:\n",
    "                    count+=1\n",
    "                    x = int(data[i][1]*size[1])\n",
    "                    y = int(data[i][2]*size[0])\n",
    "                    w = int(data[i][3]*size[1])\n",
    "                    h = int(data[i][4]*size[0])\n",
    "                    crop = image[y-int(h/2):y+int(h/2),x-int(w/2):x+int(w/2)]\n",
    "                    crop = cv2.resize(crop,(100,100))\n",
    "                    img_name= 'btwcab.png'\n",
    "                    cv2.imwrite(img_name, crop)\n",
    "                    binary = binarize_image_using_opencv(img_name)\n",
    "                    cv2.imwrite(img_name, binary)\n",
    "                    recognize = digit_cab_recognize_tesseract(img_name)\n",
    "                    if count==5:\n",
    "                        Emp_arr.append(recognize)\n",
    "                    \n",
    "                    #print('true')\n",
    "                elif data[i][0]==1:\n",
    "                    count+=1\n",
    "                    x = int(data[i][1]*size[1])\n",
    "                    y = int(data[i][2]*size[0])\n",
    "                    w = int(data[i][3]*size[1])\n",
    "                    h = int(data[i][4]*size[0])\n",
    "                    crop = image[y-int(h/2):y+int(h/2),x-int(w/2):x+int(w/2)]\n",
    "                    crop = cv2.resize(crop,(100,100))\n",
    "                    img_name= 'btwcabV.png'\n",
    "                    crop = rotateImage(crop)\n",
    "                    #cv2.imwrite(img_name, crop)\n",
    "                    binary = binarize_image_using_opencv(img_name)\n",
    "                    cv2.imwrite(img_name, binary)\n",
    "                    recognize = digit_cab_recognize_tesseract(img_name)\n",
    "                    '''cv2.imwrite(img_name, crop)\n",
    "                    binary = binarize_image_using_opencv(img_name)\n",
    "                    #cv2.imwrite(img_name, binary)\n",
    "                    binary = cv2.imread(img_name)\n",
    "                    binary = rotateImage(binary)\n",
    "                    cv2.imwrite(img_name, binary)\n",
    "                    recognize = digit_cab_recognize_tesseract(img_name)'''\n",
    "                    if count2==5:\n",
    "                        Emp_arr.append(recognize)\n",
    "                elif data[i][0] in [2, 3] :\n",
    "                #elif  data[i][0]==2:\n",
    "                    count1+=1\n",
    "                    x = int(data[i][1]*size[1])\n",
    "                    y = int(data[i][2]*size[0])\n",
    "                    w = int(data[i][3]*size[1])\n",
    "                    h = int(data[i][4]*size[0])\n",
    "                    crop = image[y-int(h/2):y+int(h/2),x-int(w/2):x+int(w/2)]\n",
    "                    crop = cv2.resize(crop,(100,100))\n",
    "                    img_name= 'btwgrad.png'\n",
    "                    cv2.imwrite(img_name, crop)\n",
    "                    binary = binarize_image_using_opencv(img_name)\n",
    "                    recognize = digit_grad_recognize_tesseract(binary)\n",
    "                    if count1==5:\n",
    "                        Emp_arr.append(recognize)\n",
    "                \n",
    "                    \n",
    "           count=0\n",
    "           count1=0\n",
    "           count2=0\n",
    "    btwimg=['btwgrad.png', 'btwgrad.png_wb.jpg', 'btwcab.png', 'btwcab.png_wb.jpg']\n",
    "    for j in btwimg:\n",
    "        os.remove(j)\n",
    "    print(\"END\")\n",
    "    \n",
    "                    "
   ]
  },
  {
   "cell_type": "code",
   "execution_count": null,
   "metadata": {},
   "outputs": [],
   "source": []
  },
  {
   "cell_type": "code",
   "execution_count": 6,
   "metadata": {},
   "outputs": [],
   "source": [
    "def binarize_image_using_opencv(captcha_path):\n",
    "    img = cv2.imread(captcha_path)\n",
    "    im_gray = cv2.cvtColor(img, cv2.COLOR_BGR2GRAY)\n",
    "    (thresh, im_bw) = cv2.threshold(im_gray, 128, 255, cv2.THRESH_BINARY | cv2.THRESH_OTSU)\n",
    "    # although thresh is used below, gonna pick something suitable\n",
    "    im_bw = cv2.threshold(im_gray, thresh, 255, cv2.THRESH_BINARY)[1]\n",
    "    binary_image_path= captcha_path + '_wb.jpg'\n",
    "    cv2.imwrite(binary_image_path, im_bw)\n",
    "    #print(binary_image_path)\n",
    "    return binary_image_path"
   ]
  },
  {
   "cell_type": "code",
   "execution_count": 3,
   "metadata": {},
   "outputs": [],
   "source": [
    "def digit_cab_recognize_tesseract(captcha_path):\n",
    "    image = cv2.imread(captcha_path)\n",
    "    #image = crop\n",
    "    gray = cv2.cvtColor(image, cv2.COLOR_BGR2GRAY)\n",
    "    #gray = cv2.medianBlur(gray, 1)\n",
    "    dim=(600, 256)\n",
    "    resized = cv2.resize(image,dim, interpolation = cv2.INTER_AREA)\n",
    "    filename = \"{}.png\".format(os.getpid())\n",
    "    #print(captcha_path)\n",
    "    #cv2.imwrite(filename, gray)\n",
    "    cv2.imwrite(filename, resized)\n",
    "    config = (\"-l eng --oem 1 --psm 7\")\n",
    "    text = pytesseract.image_to_string(Image.open(filename), config = config)\n",
    "    os.remove(filename)\n",
    "    #print(text)\n",
    "    return text"
   ]
  },
  {
   "cell_type": "code",
   "execution_count": 4,
   "metadata": {},
   "outputs": [],
   "source": [
    "def digit_grad_recognize_tesseract(captcha_path):\n",
    "    image = cv2.imread(captcha_path)\n",
    "    #image = crop\n",
    "    gray = cv2.cvtColor(image, cv2.COLOR_BGR2GRAY)\n",
    "    #gray = cv2.medianBlur(gray, 1)\n",
    "    #dim=(600, 256)\n",
    "    #resized = cv2.resize(image,dim, interpolation = cv2.INTER_AREA)\n",
    "    filename = \"{}.png\".format(os.getpid())\n",
    "    #print(captcha_path)\n",
    "    cv2.imwrite(filename, gray)\n",
    "    #cv2.imwrite(filename, resized)\n",
    "    config = (\"-l eng --oem 1 --psm 7\")\n",
    "    text = pytesseract.image_to_string(Image.open(filename), config = config)\n",
    "    os.remove(filename)\n",
    "    #print(text)\n",
    "    return text"
   ]
  },
  {
   "cell_type": "code",
   "execution_count": 9,
   "metadata": {},
   "outputs": [],
   "source": [
    "def digit_gradS_recognize_tesseract(captcha_path):\n",
    "    image = cv2.imread(captcha_path)\n",
    "    #image = crop\n",
    "    gray = cv2.cvtColor(image, cv2.COLOR_BGR2GRAY)\n",
    "    #gray = cv2.medianBlur(gray, 1)\n",
    "    #dim=(600, 256)\n",
    "    #resized = cv2.resize(image,dim, interpolation = cv2.INTER_AREA)\n",
    "    filename = \"{}.png\".format(os.getpid())\n",
    "    #print(captcha_path)\n",
    "    cv2.imwrite(filename, gray)\n",
    "    #cv2.imwrite(filename, resized)\n",
    "    config = (\"-l eng --oem 1 --psm 7\")\n",
    "    text = pytesseract.image_to_string(Image.open(filename), config = config)\n",
    "    os.remove(filename)\n",
    "    #print(text)\n",
    "    return text"
   ]
  },
  {
   "cell_type": "code",
   "execution_count": 16,
   "metadata": {},
   "outputs": [],
   "source": [
    "#90 grad vertical image\n",
    "\n",
    "def rotateImage(image):\n",
    "    angle=90\n",
    "    row = image.shape[0]\n",
    "    col = image.shape[1]\n",
    "    center=tuple(np.array([row,col])/2)\n",
    "    rot_mat = cv2.getRotationMatrix2D(center,angle,1.0)\n",
    "    new_image = cv2.warpAffine(image, rot_mat, (col,row))\n",
    "    cv2.imwrite(\"btwcabV.png\", new_image)\n",
    "    return new_image"
   ]
  },
  {
   "cell_type": "code",
   "execution_count": 15,
   "metadata": {},
   "outputs": [
    {
     "name": "stdout",
     "output_type": "stream",
     "text": [
      "['1501', '30°', 'B501/9', '22°', '1501/2', '23°', '1501/3', '23°', '1501/4', '23°', '1501/5', '23°', '1502|', '31°', '1502/2', '21°', '1502/3', '21°', '1503', '29°', '1503/1', '22°', '1503/1', '23°', '1500', '24°', '\"1504', '32°', '1504/1', '25°', '1504/2', '25°', '1505', '30°', '1505/4', '25°', '1506.', '24°', '1506/4,', '24°', '1507', '30°', '1507/4', '23°', '1510', '24°', '1509', '24°', '1511', '24°']\n"
     ]
    }
   ],
   "source": [
    "print(Emp_arr)"
   ]
  },
  {
   "cell_type": "code",
   "execution_count": 13,
   "metadata": {},
   "outputs": [
    {
     "name": "stdout",
     "output_type": "stream",
     "text": [
      "['1501', '30°', 'B501/9', '22°', '1501/2', '23°', '1501/3', '23°', '1501/4', '23°', '1501/5', '23°', '1502|', '31°', '1502/2', '21°', '1502/3', '21°', '1503', '29°', '1503/1', '22°', '1503/1', '23°', '1500', '24°', '\"1504', '32°', '1504/1', '25°', '1504/2', '25°', '1505', '30°', '1505/4', '25°', '1506.', 'yt', '1506/4,', '24°', '1507', '30°', '1507/4', '23°', '1510', '24°', '1509', '24°', '1511', '24°']\n"
     ]
    }
   ],
   "source": [
    "print(Emp_arr)"
   ]
  },
  {
   "cell_type": "code",
   "execution_count": null,
   "metadata": {},
   "outputs": [],
   "source": []
  }
 ],
 "metadata": {
  "kernelspec": {
   "display_name": "Python 3",
   "language": "python",
   "name": "python3"
  },
  "language_info": {
   "codemirror_mode": {
    "name": "ipython",
    "version": 3
   },
   "file_extension": ".py",
   "mimetype": "text/x-python",
   "name": "python",
   "nbconvert_exporter": "python",
   "pygments_lexer": "ipython3",
   "version": "3.5.6"
  }
 },
 "nbformat": 4,
 "nbformat_minor": 2
}
